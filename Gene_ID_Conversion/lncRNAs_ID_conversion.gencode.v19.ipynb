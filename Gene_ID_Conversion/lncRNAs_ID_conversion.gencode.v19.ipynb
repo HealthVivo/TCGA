{
 "cells": [
  {
   "cell_type": "code",
   "execution_count": 23,
   "metadata": {
    "collapsed": false
   },
   "outputs": [
    {
     "name": "stdout",
     "output_type": "stream",
     "text": [
      "Number of long non-coding genes: 13870\n"
     ]
    }
   ],
   "source": [
    "from collections import OrderedDict\n",
    "\n",
    "databases = '/home/ruidong/Documents/Research/Cancer_Genomics/Data/Databases/'\n",
    "\n",
    "lncSymbol = OrderedDict()\n",
    "\n",
    "fh = open(databases+'Gene_ID_conversion/lncRNA.gencode.v19/gencode.v19.long_noncoding_RNAs.clean.gtf', 'wt')\n",
    "fh.write('\\t'.join(['Gene_ID', 'Gene_Name', 'Gene_Type'])+'\\n')\n",
    "\n",
    "with open(databases+'Gene_ID_conversion/lncRNA.gencode.v19/gencode.v19.long_noncoding_RNAs.gtf') as f:\n",
    "    for line in f:\n",
    "        line = line.rstrip()\n",
    "        if line.startswith('#'):\n",
    "            continue\n",
    "        lst = line.split('\\t')\n",
    "        if lst[2] == 'gene':\n",
    "            geneInfo = lst[-1].split(';')\n",
    "            \n",
    "            geneId = geneInfo[0].split('\"')[1]\n",
    "            geneType = geneInfo[2].split('\"')[1]\n",
    "            geneName = geneInfo[4].split('\"')[1]\n",
    "            lncSymbol[geneId] = geneName+'\\t'+geneType\n",
    "            fh.write('\\t'.join([geneId, geneName, geneType])+'\\n')\n",
    "            \n",
    "fh.close()\n",
    "\n",
    "print ('Number of long non-coding genes: %d' %len(lncSymbol))"
   ]
  },
  {
   "cell_type": "code",
   "execution_count": 24,
   "metadata": {
    "collapsed": false
   },
   "outputs": [],
   "source": [
    "fh = open('/home/ruidong/Documents/Research/share/ID_conversion/TCGA-COAD-rnaexpr.conversion.txt', 'wt')\n",
    "\n",
    "with open('/home/ruidong/Documents/Research/share/ID_conversion/TCGA-COAD-rnaexpr.tsv', 'rt') as f:\n",
    "    for line in f:\n",
    "        line = line.rstrip()\n",
    "        lst = line.split('\\t')\n",
    "        if line.startswith('Gene_ID'):\n",
    "            fh.write('\\t'.join(map(str,['Gene_ID', 'Gene_Name', 'Gene_Type'] + lst[1:]))+'\\n')\n",
    "        else:\n",
    "            lst[0] = lst[0].replace('\"', '')\n",
    "            if lst[0] in lncSymbol.keys():\n",
    "                fh.write('\\t'.join(map(str,[lst[0], lncSymbol[lst[0]]] + lst[1:]))+'\\n')\n",
    "            else:\n",
    "                fh.write('\\t'.join(map(str,[lst[0], lst[0], 'Unknown'] + lst[1:]))+'\\n')\n",
    "fh.close()\n",
    "        "
   ]
  },
  {
   "cell_type": "code",
   "execution_count": null,
   "metadata": {
    "collapsed": false
   },
   "outputs": [],
   "source": []
  },
  {
   "cell_type": "code",
   "execution_count": null,
   "metadata": {
    "collapsed": false
   },
   "outputs": [],
   "source": []
  },
  {
   "cell_type": "code",
   "execution_count": null,
   "metadata": {
    "collapsed": true
   },
   "outputs": [],
   "source": []
  }
 ],
 "metadata": {
  "anaconda-cloud": {},
  "kernelspec": {
   "display_name": "Python [Root]",
   "language": "python",
   "name": "Python [Root]"
  },
  "language_info": {
   "codemirror_mode": {
    "name": "ipython",
    "version": 3
   },
   "file_extension": ".py",
   "mimetype": "text/x-python",
   "name": "python",
   "nbconvert_exporter": "python",
   "pygments_lexer": "ipython3",
   "version": "3.5.2"
  }
 },
 "nbformat": 4,
 "nbformat_minor": 0
}
