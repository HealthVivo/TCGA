{
 "cells": [
  {
   "cell_type": "code",
   "execution_count": null,
   "metadata": {
    "collapsed": true
   },
   "outputs": [],
   "source": []
  },
  {
   "cell_type": "code",
   "execution_count": 30,
   "metadata": {
    "collapsed": true
   },
   "outputs": [],
   "source": [
    "os.chdir('/home/ruidong/Documents/Research/Git/TCGA/')"
   ]
  },
  {
   "cell_type": "code",
   "execution_count": 134,
   "metadata": {
    "collapsed": false
   },
   "outputs": [
    {
     "data": {
      "text/plain": [
       "'/home/ruidong/Documents/Research/Git/TCGA'"
      ]
     },
     "execution_count": 134,
     "metadata": {},
     "output_type": "execute_result"
    }
   ],
   "source": [
    "os.getcwd()"
   ]
  },
  {
   "cell_type": "code",
   "execution_count": null,
   "metadata": {
    "collapsed": true
   },
   "outputs": [],
   "source": []
  },
  {
   "cell_type": "code",
   "execution_count": 133,
   "metadata": {
    "collapsed": true
   },
   "outputs": [],
   "source": [
    "###########################################################################\n",
    "###                        Step 0. Setup Environment                    ###\n",
    "###########################################################################\n",
    "\n",
    "import re, os, scipy, json\n",
    "from os import system, path\n",
    "import zipfile\n",
    "import gzip\n",
    "import shutil\n",
    "import io\n",
    "import requests\n",
    "import json\n",
    "\n",
    "import numpy as np\n",
    "import pandas as pd\n",
    "from scipy import stats\n",
    "\n",
    "from collections import OrderedDict, defaultdict\n",
    "from operator import itemgetter\n",
    "from pprint import pprint\n",
    "\n",
    "project = 'TCGA-CHOL'\n",
    "\n",
    "if not os.path.isdir(project):\n",
    "    os.mkdir(project)\n"
   ]
  },
  {
   "cell_type": "code",
   "execution_count": null,
   "metadata": {
    "collapsed": true
   },
   "outputs": [],
   "source": []
  },
  {
   "cell_type": "code",
   "execution_count": 125,
   "metadata": {
    "collapsed": true
   },
   "outputs": [],
   "source": [
    "###########################################################################\n",
    "###                  Step 1. Download data by gdc-client                ###\n",
    "###########################################################################\n",
    "\n",
    "def gdcDownload(manifest, dest_dir):\n",
    "    \n",
    "    #manifest = input('Manifest file:')\n",
    "    #manifest = manifest.rstrip()\n",
    "    \n",
    "    #dest_dir = input('Destination directory:')\n",
    "    #dest_dir = dest_dir.rstrip()\n",
    "    \n",
    "    if not os.path.exists('gdc-client'):\n",
    "        os.system('wget https://gdc.cancer.gov/system/files/authenticated%20user/0/gdc-client_v1.3.0_Ubuntu14.04_x64.zip')\n",
    "        #os.system('unzip gdc-client_v1.3.0_Ubuntu14.04_x64.zip')\n",
    "    \n",
    "        with zipfile.ZipFile('gdc-client_v1.3.0_Ubuntu14.04_x64.zip','r') as zip_ref:\n",
    "            zip_ref.extractall('.')\n",
    "    \n",
    "    if not os.path.exists(dest_dir):\n",
    "        os.mkdir(dest_dir)\n",
    "    \n",
    "    \n",
    "    print ('Start Downloading ...')\n",
    "\n",
    "    os.system('./gdc-client download -m '+ manifest)\n",
    "    \n",
    "    \n",
    "    fls = []\n",
    "    with open(manifest) as f:\n",
    "        for line in f:\n",
    "            line = line.rstrip()\n",
    "            lst = line.split('\\t')\n",
    "            \n",
    "            if lst[0] == 'id':\n",
    "                continue\n",
    "            else:\n",
    "                fls.append(lst[0])\n",
    "    \n",
    "    for fl in fls:\n",
    "        shutil.move(fl, dest_dir)\n",
    "    \n",
    "    print ('Download completed !')\n",
    "    "
   ]
  },
  {
   "cell_type": "code",
   "execution_count": null,
   "metadata": {
    "collapsed": true
   },
   "outputs": [],
   "source": []
  },
  {
   "cell_type": "code",
   "execution_count": 39,
   "metadata": {
    "collapsed": false
   },
   "outputs": [
    {
     "name": "stdout",
     "output_type": "stream",
     "text": [
      "Start Downloading ...\n",
      "Download completed !\n"
     ]
    }
   ],
   "source": [
    "data_type = 'miRNAs'\n",
    "dest_dir = os.path.join(project, data_type)\n",
    "\n",
    "manifest = 'gdc_manifest.Isoform.TCGA-CHOL.txt'\n",
    "\n",
    "gdcDownload(manifest, dest_dir)"
   ]
  },
  {
   "cell_type": "code",
   "execution_count": null,
   "metadata": {
    "collapsed": true
   },
   "outputs": [],
   "source": []
  },
  {
   "cell_type": "code",
   "execution_count": 126,
   "metadata": {
    "collapsed": false
   },
   "outputs": [
    {
     "name": "stdout",
     "output_type": "stream",
     "text": [
      "Start Downloading ...\n",
      "Download completed !\n"
     ]
    }
   ],
   "source": [
    "data_type = 'RNAseq'\n",
    "dest_dir = os.path.join(project, data_type)\n",
    "\n",
    "manifest = 'gdc_manifest.HTSeq-Counts.TCGA-CHOL.txt'\n",
    "\n",
    "gdcDownload(manifest, dest_dir)"
   ]
  },
  {
   "cell_type": "code",
   "execution_count": null,
   "metadata": {
    "collapsed": true
   },
   "outputs": [],
   "source": []
  },
  {
   "cell_type": "code",
   "execution_count": 109,
   "metadata": {
    "collapsed": false
   },
   "outputs": [],
   "source": [
    "###########################################################################\n",
    "###                 Step 2. Parse metadata via GDC API                  ###\n",
    "###########################################################################\n",
    "\n",
    "\n",
    "def gdcParseMeta(project, data_category, data_type, workflow_type):\n",
    "    \n",
    "    files_endpt = \"https://api.gdc.cancer.gov/files\"\n",
    "    \n",
    "    fields = [\n",
    "        \"file_name\",\n",
    "        #\"file_id\",\n",
    "        \"cases.samples.submitter_id\",\n",
    "        \"associated_entities.entity_submitter_id\",\n",
    "        \"cases.samples.sample_type\",\n",
    "        \"cases.disease_type\",\n",
    "        \"cases.demographic.gender\",\n",
    "        \"cases.diagnoses.tumor_stage\",\n",
    "        \"cases.diagnoses.tumor_grade\",\n",
    "        \"cases.diagnoses.age_at_diagnosis\",\n",
    "        \"cases.diagnoses.days_to_death\",\n",
    "        \"cases.diagnoses.days_to_last_follow_up\",\n",
    "        \"cases.diagnoses.vital_status\",\n",
    "        \"cases.project.project_id\"\n",
    "    ]\n",
    "\n",
    "    fields = \",\".join(fields)\n",
    "\n",
    "    # This set of filters is nested under an 'and' operator.\n",
    "    filters = {\n",
    "        \"op\": \"and\",\n",
    "        \"content\":[\n",
    "            {\n",
    "            \"op\": \"in\",\n",
    "            \"content\":{\n",
    "                \"field\": \"cases.project.project_id\",\n",
    "                \"value\": [project]\n",
    "                }\n",
    "            },\n",
    "            {\n",
    "            \"op\": \"in\",\n",
    "            \"content\":{\n",
    "                \"field\": \"files.data_category\",\n",
    "                \"value\": [data_category]\n",
    "                }\n",
    "            },\n",
    "            {\n",
    "            \"op\": \"in\",\n",
    "            \"content\":{\n",
    "                \"field\": \"files.data_type\",\n",
    "                \"value\": [data_type]\n",
    "                }\n",
    "            },\n",
    "            {\n",
    "            \"op\": \"in\",\n",
    "            \"content\":{\n",
    "                \"field\": \"files.analysis.workflow_type\",\n",
    "                \"value\": [workflow_type]\n",
    "                }\n",
    "            }\n",
    "        ]\n",
    "    }\n",
    "    \n",
    "    # A POST is used, so the filter parameters can be passed directly as a Dict object.\n",
    "    params = {\n",
    "        \"filters\": filters,\n",
    "        \"fields\": fields,\n",
    "        \"format\": \"TSV\",\n",
    "        \"size\": \"10000\"\n",
    "        }\n",
    "    \n",
    "    # The parameters are passed to 'json' rather than 'params' in this case\n",
    "    response = requests.post(files_endpt, headers = {\"Content-Type\": \"application/json\"}, json = params)\n",
    "    \n",
    "    df = pd.read_csv(io.StringIO(response.content.decode(\"utf-8\")), sep='\\t')\n",
    "    \n",
    "    df.columns = ['days_to_death', 'age_at_diagnosis', 'tumor_grade',\n",
    "                 'sample_type', 'tumor_stage', 'entity_submitter_id',\n",
    "                 'submitter_id', 'project_id', 'vital_status','disease_type', \n",
    "                 'file_name', 'days_to_last_follow_up','gender', 'file_id']\n",
    "    \n",
    "    df = pd.DataFrame(df, columns = ['file_id', 'file_name', 'submitter_id', 'entity_submitter_id',\n",
    "                                     'sample_type', 'age_at_diagnosis', 'gender', 'tumor_stage',\n",
    "                                     'tumor_grade', 'days_to_death', 'days_to_last_follow_up',\n",
    "                                     'vital_status', 'disease_type', 'project_id'])\n",
    "    \n",
    "    df = df.rename_axis(df['submitter_id'], axis=\"rows\")\n",
    "    #print(response.content.decode(\"utf-8\"))\n",
    "    return (df)"
   ]
  },
  {
   "cell_type": "code",
   "execution_count": null,
   "metadata": {
    "collapsed": false
   },
   "outputs": [],
   "source": []
  },
  {
   "cell_type": "code",
   "execution_count": 147,
   "metadata": {
    "collapsed": true
   },
   "outputs": [],
   "source": [
    "meta = gdcParseMeta(project = 'TCGA-CHOL', \n",
    "                    data_category = 'Transcriptome Profiling', \n",
    "                    data_type = 'Isoform Expression Quantification', \n",
    "                    workflow_type = 'BCGSC miRNA Profiling')"
   ]
  },
  {
   "cell_type": "code",
   "execution_count": 148,
   "metadata": {
    "collapsed": false
   },
   "outputs": [
    {
     "data": {
      "text/html": [
       "<div>\n",
       "<style>\n",
       "    .dataframe thead tr:only-child th {\n",
       "        text-align: right;\n",
       "    }\n",
       "\n",
       "    .dataframe thead th {\n",
       "        text-align: left;\n",
       "    }\n",
       "\n",
       "    .dataframe tbody tr th {\n",
       "        vertical-align: top;\n",
       "    }\n",
       "</style>\n",
       "<table border=\"1\" class=\"dataframe\">\n",
       "  <thead>\n",
       "    <tr style=\"text-align: right;\">\n",
       "      <th></th>\n",
       "      <th>file_id</th>\n",
       "      <th>file_name</th>\n",
       "      <th>submitter_id</th>\n",
       "      <th>entity_submitter_id</th>\n",
       "      <th>sample_type</th>\n",
       "      <th>age_at_diagnosis</th>\n",
       "      <th>gender</th>\n",
       "      <th>tumor_stage</th>\n",
       "      <th>tumor_grade</th>\n",
       "      <th>days_to_death</th>\n",
       "      <th>days_to_last_follow_up</th>\n",
       "      <th>vital_status</th>\n",
       "      <th>disease_type</th>\n",
       "      <th>project_id</th>\n",
       "    </tr>\n",
       "  </thead>\n",
       "  <tbody>\n",
       "    <tr>\n",
       "      <th>TCGA-W5-AA36-01A</th>\n",
       "      <td>40a40b43-142a-4041-beac-e4c55dfab09d</td>\n",
       "      <td>91c07e4a-3521-4f9c-a1ad-ba8c677a7c98.mirbase21...</td>\n",
       "      <td>TCGA-W5-AA36-01A</td>\n",
       "      <td>TCGA-W5-AA36-01A-11R-A41D-13</td>\n",
       "      <td>Primary Tumor</td>\n",
       "      <td>18882</td>\n",
       "      <td>female</td>\n",
       "      <td>stage iv</td>\n",
       "      <td>not reported</td>\n",
       "      <td>1402.0</td>\n",
       "      <td>NaN</td>\n",
       "      <td>dead</td>\n",
       "      <td>Cholangiocarcinoma</td>\n",
       "      <td>TCGA-CHOL</td>\n",
       "    </tr>\n",
       "    <tr>\n",
       "      <th>TCGA-YR-A95A-01A</th>\n",
       "      <td>2370512a-bdd1-4554-b5e2-421e4a44c5a1</td>\n",
       "      <td>07a10aa5-fb68-4d78-b02c-f1456e297f4f.mirbase21...</td>\n",
       "      <td>TCGA-YR-A95A-01A</td>\n",
       "      <td>TCGA-YR-A95A-01A-12R-A41D-13</td>\n",
       "      <td>Primary Tumor</td>\n",
       "      <td>19292</td>\n",
       "      <td>male</td>\n",
       "      <td>stage iv</td>\n",
       "      <td>not reported</td>\n",
       "      <td>26.0</td>\n",
       "      <td>NaN</td>\n",
       "      <td>dead</td>\n",
       "      <td>Cholangiocarcinoma</td>\n",
       "      <td>TCGA-CHOL</td>\n",
       "    </tr>\n",
       "    <tr>\n",
       "      <th>TCGA-3X-AAV9-01A</th>\n",
       "      <td>85f0797e-1d52-461e-a9f0-519c26908a04</td>\n",
       "      <td>32100d21-e578-43a9-9e7e-0a59069fd6bf.mirbase21...</td>\n",
       "      <td>TCGA-3X-AAV9-01A</td>\n",
       "      <td>TCGA-3X-AAV9-01A-72R-A41D-13</td>\n",
       "      <td>Primary Tumor</td>\n",
       "      <td>26349</td>\n",
       "      <td>male</td>\n",
       "      <td>stage i</td>\n",
       "      <td>not reported</td>\n",
       "      <td>339.0</td>\n",
       "      <td>NaN</td>\n",
       "      <td>dead</td>\n",
       "      <td>Cholangiocarcinoma</td>\n",
       "      <td>TCGA-CHOL</td>\n",
       "    </tr>\n",
       "    <tr>\n",
       "      <th>TCGA-W5-AA2G-01A</th>\n",
       "      <td>30cf8b89-708a-40df-9d4e-72eab593ac13</td>\n",
       "      <td>44ad6046-e17a-4655-bb58-3c778930e938.mirbase21...</td>\n",
       "      <td>TCGA-W5-AA2G-01A</td>\n",
       "      <td>TCGA-W5-AA2G-01A-11R-A41D-13</td>\n",
       "      <td>Primary Tumor</td>\n",
       "      <td>22933</td>\n",
       "      <td>female</td>\n",
       "      <td>stage i</td>\n",
       "      <td>not reported</td>\n",
       "      <td>NaN</td>\n",
       "      <td>1976.0</td>\n",
       "      <td>alive</td>\n",
       "      <td>Cholangiocarcinoma</td>\n",
       "      <td>TCGA-CHOL</td>\n",
       "    </tr>\n",
       "    <tr>\n",
       "      <th>TCGA-W5-AA2Q-01A</th>\n",
       "      <td>aeecfc69-fdf7-450c-b374-0f7a21c74da5</td>\n",
       "      <td>caad916f-d439-4849-a3a5-e29dcd54cd43.mirbase21...</td>\n",
       "      <td>TCGA-W5-AA2Q-01A</td>\n",
       "      <td>TCGA-W5-AA2Q-01A-11R-A41D-13</td>\n",
       "      <td>Primary Tumor</td>\n",
       "      <td>25069</td>\n",
       "      <td>male</td>\n",
       "      <td>stage ii</td>\n",
       "      <td>not reported</td>\n",
       "      <td>NaN</td>\n",
       "      <td>50.0</td>\n",
       "      <td>alive</td>\n",
       "      <td>Cholangiocarcinoma</td>\n",
       "      <td>TCGA-CHOL</td>\n",
       "    </tr>\n",
       "  </tbody>\n",
       "</table>\n",
       "</div>"
      ],
      "text/plain": [
       "                                               file_id  \\\n",
       "TCGA-W5-AA36-01A  40a40b43-142a-4041-beac-e4c55dfab09d   \n",
       "TCGA-YR-A95A-01A  2370512a-bdd1-4554-b5e2-421e4a44c5a1   \n",
       "TCGA-3X-AAV9-01A  85f0797e-1d52-461e-a9f0-519c26908a04   \n",
       "TCGA-W5-AA2G-01A  30cf8b89-708a-40df-9d4e-72eab593ac13   \n",
       "TCGA-W5-AA2Q-01A  aeecfc69-fdf7-450c-b374-0f7a21c74da5   \n",
       "\n",
       "                                                          file_name  \\\n",
       "TCGA-W5-AA36-01A  91c07e4a-3521-4f9c-a1ad-ba8c677a7c98.mirbase21...   \n",
       "TCGA-YR-A95A-01A  07a10aa5-fb68-4d78-b02c-f1456e297f4f.mirbase21...   \n",
       "TCGA-3X-AAV9-01A  32100d21-e578-43a9-9e7e-0a59069fd6bf.mirbase21...   \n",
       "TCGA-W5-AA2G-01A  44ad6046-e17a-4655-bb58-3c778930e938.mirbase21...   \n",
       "TCGA-W5-AA2Q-01A  caad916f-d439-4849-a3a5-e29dcd54cd43.mirbase21...   \n",
       "\n",
       "                      submitter_id           entity_submitter_id  \\\n",
       "TCGA-W5-AA36-01A  TCGA-W5-AA36-01A  TCGA-W5-AA36-01A-11R-A41D-13   \n",
       "TCGA-YR-A95A-01A  TCGA-YR-A95A-01A  TCGA-YR-A95A-01A-12R-A41D-13   \n",
       "TCGA-3X-AAV9-01A  TCGA-3X-AAV9-01A  TCGA-3X-AAV9-01A-72R-A41D-13   \n",
       "TCGA-W5-AA2G-01A  TCGA-W5-AA2G-01A  TCGA-W5-AA2G-01A-11R-A41D-13   \n",
       "TCGA-W5-AA2Q-01A  TCGA-W5-AA2Q-01A  TCGA-W5-AA2Q-01A-11R-A41D-13   \n",
       "\n",
       "                    sample_type  age_at_diagnosis  gender tumor_stage  \\\n",
       "TCGA-W5-AA36-01A  Primary Tumor             18882  female    stage iv   \n",
       "TCGA-YR-A95A-01A  Primary Tumor             19292    male    stage iv   \n",
       "TCGA-3X-AAV9-01A  Primary Tumor             26349    male     stage i   \n",
       "TCGA-W5-AA2G-01A  Primary Tumor             22933  female     stage i   \n",
       "TCGA-W5-AA2Q-01A  Primary Tumor             25069    male    stage ii   \n",
       "\n",
       "                   tumor_grade  days_to_death  days_to_last_follow_up  \\\n",
       "TCGA-W5-AA36-01A  not reported         1402.0                     NaN   \n",
       "TCGA-YR-A95A-01A  not reported           26.0                     NaN   \n",
       "TCGA-3X-AAV9-01A  not reported          339.0                     NaN   \n",
       "TCGA-W5-AA2G-01A  not reported            NaN                  1976.0   \n",
       "TCGA-W5-AA2Q-01A  not reported            NaN                    50.0   \n",
       "\n",
       "                 vital_status        disease_type project_id  \n",
       "TCGA-W5-AA36-01A         dead  Cholangiocarcinoma  TCGA-CHOL  \n",
       "TCGA-YR-A95A-01A         dead  Cholangiocarcinoma  TCGA-CHOL  \n",
       "TCGA-3X-AAV9-01A         dead  Cholangiocarcinoma  TCGA-CHOL  \n",
       "TCGA-W5-AA2G-01A        alive  Cholangiocarcinoma  TCGA-CHOL  \n",
       "TCGA-W5-AA2Q-01A        alive  Cholangiocarcinoma  TCGA-CHOL  "
      ]
     },
     "execution_count": 148,
     "metadata": {},
     "output_type": "execute_result"
    }
   ],
   "source": [
    "meta.head()"
   ]
  },
  {
   "cell_type": "code",
   "execution_count": null,
   "metadata": {
    "collapsed": true
   },
   "outputs": [],
   "source": []
  },
  {
   "cell_type": "code",
   "execution_count": 139,
   "metadata": {
    "collapsed": false
   },
   "outputs": [],
   "source": [
    "###########################################################################\n",
    "###               Step 3. Merge data for downstream analysis            ###\n",
    "###########################################################################\n",
    "\n",
    "def gdcMerge(path, meta, data_type):\n",
    "    \n",
    "    fls = meta['file_id'] + '/' + meta['file_name']\n",
    "    sams = fls.to_dict()\n",
    "    \n",
    "    expr = {}\n",
    "    \n",
    "    if data_type == 'miRNAs':\n",
    "        \n",
    "        mir21 = OrderedDict()\n",
    "    \n",
    "        with open('mature.release21.id.txt') as f:\n",
    "            for line in f:\n",
    "                line = line.rstrip()\n",
    "                lst = line.split('\\t')\n",
    "                mir21[lst[0]] = lst[1]\n",
    "\n",
    "        for sam,fl in sams.items():\n",
    "            expr[sam] = OrderedDict()\n",
    "    \n",
    "            for mir in mir21.values():\n",
    "                expr[sam][mir] = 0\n",
    "    \n",
    "            with open(path+'/'+fl) as f:\n",
    "                for line in f:\n",
    "                    line = line.rstrip()\n",
    "                    lst = line.split('\\t')\n",
    "            \n",
    "                    if lst[-1].startswith('mature'):\n",
    "                        mir = lst[-1].split(',')[-1]\n",
    "                        expr[sam][mir21[mir]] += int(lst[2])\n",
    "    \n",
    "    \n",
    "    if data_type == 'RNAseq':\n",
    "        for sam,fl in sams.items():\n",
    "            expr[sam] = OrderedDict()\n",
    "            \n",
    "            with gzip.open(path+'/'+fl, 'rt') as f:\n",
    "                for line in f:\n",
    "                    line = line.rstrip()\n",
    "                    lst = line.split('\\t')\n",
    "            \n",
    "                    if not lst[0].startswith('ENSG'):\n",
    "                        continue\n",
    "                        \n",
    "                    gene = lst[0].split('.')[0]\n",
    "                        \n",
    "                    expr[sam][gene] = lst[-1]\n",
    "        \n",
    "    mergeDa = pd.DataFrame.from_dict(expr)\n",
    "        \n",
    "    return (mergeDa)\n",
    "    "
   ]
  },
  {
   "cell_type": "code",
   "execution_count": null,
   "metadata": {
    "collapsed": true
   },
   "outputs": [],
   "source": []
  },
  {
   "cell_type": "code",
   "execution_count": 122,
   "metadata": {
    "collapsed": false
   },
   "outputs": [],
   "source": [
    "mirExpr = gdcMerge(path='TCGA-CHOL/miRNAs', meta=meta, data_type='miRNAs')"
   ]
  },
  {
   "cell_type": "code",
   "execution_count": 145,
   "metadata": {
    "collapsed": false
   },
   "outputs": [
    {
     "data": {
      "text/html": [
       "<div>\n",
       "<style>\n",
       "    .dataframe thead tr:only-child th {\n",
       "        text-align: right;\n",
       "    }\n",
       "\n",
       "    .dataframe thead th {\n",
       "        text-align: left;\n",
       "    }\n",
       "\n",
       "    .dataframe tbody tr th {\n",
       "        vertical-align: top;\n",
       "    }\n",
       "</style>\n",
       "<table border=\"1\" class=\"dataframe\">\n",
       "  <thead>\n",
       "    <tr style=\"text-align: right;\">\n",
       "      <th></th>\n",
       "      <th>TCGA-3X-AAVA-01A</th>\n",
       "      <th>TCGA-3X-AAVB-01A</th>\n",
       "      <th>TCGA-3X-AAVC-01A</th>\n",
       "      <th>TCGA-3X-AAVE-01A</th>\n",
       "      <th>TCGA-4G-AAZO-01A</th>\n",
       "    </tr>\n",
       "  </thead>\n",
       "  <tbody>\n",
       "    <tr>\n",
       "      <th>hsa-let-7a-3p</th>\n",
       "      <td>155</td>\n",
       "      <td>282</td>\n",
       "      <td>120</td>\n",
       "      <td>141</td>\n",
       "      <td>210</td>\n",
       "    </tr>\n",
       "    <tr>\n",
       "      <th>hsa-let-7a-5p</th>\n",
       "      <td>119809</td>\n",
       "      <td>190562</td>\n",
       "      <td>79303</td>\n",
       "      <td>110684</td>\n",
       "      <td>107689</td>\n",
       "    </tr>\n",
       "    <tr>\n",
       "      <th>hsa-let-7b-3p</th>\n",
       "      <td>58</td>\n",
       "      <td>129</td>\n",
       "      <td>60</td>\n",
       "      <td>115</td>\n",
       "      <td>95</td>\n",
       "    </tr>\n",
       "    <tr>\n",
       "      <th>hsa-let-7b-5p</th>\n",
       "      <td>34952</td>\n",
       "      <td>123675</td>\n",
       "      <td>51800</td>\n",
       "      <td>94827</td>\n",
       "      <td>104602</td>\n",
       "    </tr>\n",
       "    <tr>\n",
       "      <th>hsa-let-7c-3p</th>\n",
       "      <td>34</td>\n",
       "      <td>48</td>\n",
       "      <td>9</td>\n",
       "      <td>34</td>\n",
       "      <td>31</td>\n",
       "    </tr>\n",
       "  </tbody>\n",
       "</table>\n",
       "</div>"
      ],
      "text/plain": [
       "               TCGA-3X-AAVA-01A  TCGA-3X-AAVB-01A  TCGA-3X-AAVC-01A  \\\n",
       "hsa-let-7a-3p               155               282               120   \n",
       "hsa-let-7a-5p            119809            190562             79303   \n",
       "hsa-let-7b-3p                58               129                60   \n",
       "hsa-let-7b-5p             34952            123675             51800   \n",
       "hsa-let-7c-3p                34                48                 9   \n",
       "\n",
       "               TCGA-3X-AAVE-01A  TCGA-4G-AAZO-01A  \n",
       "hsa-let-7a-3p               141               210  \n",
       "hsa-let-7a-5p            110684            107689  \n",
       "hsa-let-7b-3p               115                95  \n",
       "hsa-let-7b-5p             94827            104602  \n",
       "hsa-let-7c-3p                34                31  "
      ]
     },
     "execution_count": 145,
     "metadata": {},
     "output_type": "execute_result"
    }
   ],
   "source": [
    "mirExpr.iloc[1:6, 1:6]"
   ]
  },
  {
   "cell_type": "code",
   "execution_count": 98,
   "metadata": {
    "collapsed": true
   },
   "outputs": [],
   "source": []
  },
  {
   "cell_type": "code",
   "execution_count": 130,
   "metadata": {
    "collapsed": false
   },
   "outputs": [],
   "source": [
    "meta = gdcParseMeta(project = 'TCGA-CHOL', \n",
    "                    data_category = 'Transcriptome Profiling', \n",
    "                    data_type = 'Gene Expression Quantification', \n",
    "                    workflow_type = 'HTSeq - Counts')"
   ]
  },
  {
   "cell_type": "code",
   "execution_count": 146,
   "metadata": {
    "collapsed": false
   },
   "outputs": [
    {
     "data": {
      "text/html": [
       "<div>\n",
       "<style>\n",
       "    .dataframe thead tr:only-child th {\n",
       "        text-align: right;\n",
       "    }\n",
       "\n",
       "    .dataframe thead th {\n",
       "        text-align: left;\n",
       "    }\n",
       "\n",
       "    .dataframe tbody tr th {\n",
       "        vertical-align: top;\n",
       "    }\n",
       "</style>\n",
       "<table border=\"1\" class=\"dataframe\">\n",
       "  <thead>\n",
       "    <tr style=\"text-align: right;\">\n",
       "      <th></th>\n",
       "      <th>file_id</th>\n",
       "      <th>file_name</th>\n",
       "      <th>submitter_id</th>\n",
       "      <th>entity_submitter_id</th>\n",
       "      <th>sample_type</th>\n",
       "      <th>age_at_diagnosis</th>\n",
       "      <th>gender</th>\n",
       "      <th>tumor_stage</th>\n",
       "      <th>tumor_grade</th>\n",
       "      <th>days_to_death</th>\n",
       "      <th>days_to_last_follow_up</th>\n",
       "      <th>vital_status</th>\n",
       "      <th>disease_type</th>\n",
       "      <th>project_id</th>\n",
       "    </tr>\n",
       "  </thead>\n",
       "  <tbody>\n",
       "    <tr>\n",
       "      <th>TCGA-W5-AA2R-01A</th>\n",
       "      <td>afecdda2-735c-4304-a087-ef917ad9cd5a</td>\n",
       "      <td>fc06a930-e3a1-4775-a126-610a531c655b.htseq.cou...</td>\n",
       "      <td>TCGA-W5-AA2R-01A</td>\n",
       "      <td>TCGA-W5-AA2R-01A-11R-A41I-07</td>\n",
       "      <td>Primary Tumor</td>\n",
       "      <td>28367</td>\n",
       "      <td>female</td>\n",
       "      <td>stage i</td>\n",
       "      <td>not reported</td>\n",
       "      <td>NaN</td>\n",
       "      <td>1542.0</td>\n",
       "      <td>alive</td>\n",
       "      <td>Cholangiocarcinoma</td>\n",
       "      <td>TCGA-CHOL</td>\n",
       "    </tr>\n",
       "    <tr>\n",
       "      <th>TCGA-W5-AA2U-01A</th>\n",
       "      <td>4963b9af-7d7b-42cd-b057-2f894639e59f</td>\n",
       "      <td>46fd54e8-5ab7-43f1-bb88-01a163ff121f.htseq.cou...</td>\n",
       "      <td>TCGA-W5-AA2U-01A</td>\n",
       "      <td>TCGA-W5-AA2U-01A-11R-A41I-07</td>\n",
       "      <td>Primary Tumor</td>\n",
       "      <td>28552</td>\n",
       "      <td>female</td>\n",
       "      <td>stage i</td>\n",
       "      <td>not reported</td>\n",
       "      <td>627.0</td>\n",
       "      <td>NaN</td>\n",
       "      <td>dead</td>\n",
       "      <td>Cholangiocarcinoma</td>\n",
       "      <td>TCGA-CHOL</td>\n",
       "    </tr>\n",
       "    <tr>\n",
       "      <th>TCGA-W5-AA34-11A</th>\n",
       "      <td>d9249d25-d852-4008-a71e-dd9be6cb68e9</td>\n",
       "      <td>fbdb830c-2f70-45f5-a2d6-2d8317301af3.htseq.cou...</td>\n",
       "      <td>TCGA-W5-AA34-11A</td>\n",
       "      <td>TCGA-W5-AA34-11A-11R-A41I-07</td>\n",
       "      <td>Solid Tissue Normal</td>\n",
       "      <td>27535</td>\n",
       "      <td>female</td>\n",
       "      <td>stage i</td>\n",
       "      <td>not reported</td>\n",
       "      <td>555.0</td>\n",
       "      <td>168.0</td>\n",
       "      <td>dead</td>\n",
       "      <td>Cholangiocarcinoma</td>\n",
       "      <td>TCGA-CHOL</td>\n",
       "    </tr>\n",
       "    <tr>\n",
       "      <th>TCGA-ZH-A8Y6-01A</th>\n",
       "      <td>be2d52c8-eb14-4b45-a65b-c1bdd6f5c4c2</td>\n",
       "      <td>4696ce44-29bf-41ea-b866-ddb17c376e94.htseq.cou...</td>\n",
       "      <td>TCGA-ZH-A8Y6-01A</td>\n",
       "      <td>TCGA-ZH-A8Y6-01A-11R-A41I-07</td>\n",
       "      <td>Primary Tumor</td>\n",
       "      <td>14976</td>\n",
       "      <td>female</td>\n",
       "      <td>stage i</td>\n",
       "      <td>not reported</td>\n",
       "      <td>NaN</td>\n",
       "      <td>519.0</td>\n",
       "      <td>alive</td>\n",
       "      <td>Cholangiocarcinoma</td>\n",
       "      <td>TCGA-CHOL</td>\n",
       "    </tr>\n",
       "    <tr>\n",
       "      <th>TCGA-3X-AAVA-01A</th>\n",
       "      <td>42b8d463-6209-4ea0-bb01-8023a1302fa0</td>\n",
       "      <td>b6a2c03a-c8ad-41e9-8a19-8f5ac53cae9f.htseq.cou...</td>\n",
       "      <td>TCGA-3X-AAVA-01A</td>\n",
       "      <td>TCGA-3X-AAVA-01A-11R-A41I-07</td>\n",
       "      <td>Primary Tumor</td>\n",
       "      <td>18303</td>\n",
       "      <td>female</td>\n",
       "      <td>stage ii</td>\n",
       "      <td>not reported</td>\n",
       "      <td>445.0</td>\n",
       "      <td>NaN</td>\n",
       "      <td>dead</td>\n",
       "      <td>Cholangiocarcinoma</td>\n",
       "      <td>TCGA-CHOL</td>\n",
       "    </tr>\n",
       "  </tbody>\n",
       "</table>\n",
       "</div>"
      ],
      "text/plain": [
       "                                               file_id  \\\n",
       "TCGA-W5-AA2R-01A  afecdda2-735c-4304-a087-ef917ad9cd5a   \n",
       "TCGA-W5-AA2U-01A  4963b9af-7d7b-42cd-b057-2f894639e59f   \n",
       "TCGA-W5-AA34-11A  d9249d25-d852-4008-a71e-dd9be6cb68e9   \n",
       "TCGA-ZH-A8Y6-01A  be2d52c8-eb14-4b45-a65b-c1bdd6f5c4c2   \n",
       "TCGA-3X-AAVA-01A  42b8d463-6209-4ea0-bb01-8023a1302fa0   \n",
       "\n",
       "                                                          file_name  \\\n",
       "TCGA-W5-AA2R-01A  fc06a930-e3a1-4775-a126-610a531c655b.htseq.cou...   \n",
       "TCGA-W5-AA2U-01A  46fd54e8-5ab7-43f1-bb88-01a163ff121f.htseq.cou...   \n",
       "TCGA-W5-AA34-11A  fbdb830c-2f70-45f5-a2d6-2d8317301af3.htseq.cou...   \n",
       "TCGA-ZH-A8Y6-01A  4696ce44-29bf-41ea-b866-ddb17c376e94.htseq.cou...   \n",
       "TCGA-3X-AAVA-01A  b6a2c03a-c8ad-41e9-8a19-8f5ac53cae9f.htseq.cou...   \n",
       "\n",
       "                      submitter_id           entity_submitter_id  \\\n",
       "TCGA-W5-AA2R-01A  TCGA-W5-AA2R-01A  TCGA-W5-AA2R-01A-11R-A41I-07   \n",
       "TCGA-W5-AA2U-01A  TCGA-W5-AA2U-01A  TCGA-W5-AA2U-01A-11R-A41I-07   \n",
       "TCGA-W5-AA34-11A  TCGA-W5-AA34-11A  TCGA-W5-AA34-11A-11R-A41I-07   \n",
       "TCGA-ZH-A8Y6-01A  TCGA-ZH-A8Y6-01A  TCGA-ZH-A8Y6-01A-11R-A41I-07   \n",
       "TCGA-3X-AAVA-01A  TCGA-3X-AAVA-01A  TCGA-3X-AAVA-01A-11R-A41I-07   \n",
       "\n",
       "                          sample_type  age_at_diagnosis  gender tumor_stage  \\\n",
       "TCGA-W5-AA2R-01A        Primary Tumor             28367  female     stage i   \n",
       "TCGA-W5-AA2U-01A        Primary Tumor             28552  female     stage i   \n",
       "TCGA-W5-AA34-11A  Solid Tissue Normal             27535  female     stage i   \n",
       "TCGA-ZH-A8Y6-01A        Primary Tumor             14976  female     stage i   \n",
       "TCGA-3X-AAVA-01A        Primary Tumor             18303  female    stage ii   \n",
       "\n",
       "                   tumor_grade  days_to_death  days_to_last_follow_up  \\\n",
       "TCGA-W5-AA2R-01A  not reported            NaN                  1542.0   \n",
       "TCGA-W5-AA2U-01A  not reported          627.0                     NaN   \n",
       "TCGA-W5-AA34-11A  not reported          555.0                   168.0   \n",
       "TCGA-ZH-A8Y6-01A  not reported            NaN                   519.0   \n",
       "TCGA-3X-AAVA-01A  not reported          445.0                     NaN   \n",
       "\n",
       "                 vital_status        disease_type project_id  \n",
       "TCGA-W5-AA2R-01A        alive  Cholangiocarcinoma  TCGA-CHOL  \n",
       "TCGA-W5-AA2U-01A         dead  Cholangiocarcinoma  TCGA-CHOL  \n",
       "TCGA-W5-AA34-11A         dead  Cholangiocarcinoma  TCGA-CHOL  \n",
       "TCGA-ZH-A8Y6-01A        alive  Cholangiocarcinoma  TCGA-CHOL  \n",
       "TCGA-3X-AAVA-01A         dead  Cholangiocarcinoma  TCGA-CHOL  "
      ]
     },
     "execution_count": 146,
     "metadata": {},
     "output_type": "execute_result"
    }
   ],
   "source": [
    "meta.head()"
   ]
  },
  {
   "cell_type": "code",
   "execution_count": 140,
   "metadata": {
    "collapsed": false,
    "scrolled": true
   },
   "outputs": [],
   "source": [
    "rnaExpr = gdcMerge(path='TCGA-CHOL/RNAseq', meta=meta, data_type='RNAseq')"
   ]
  },
  {
   "cell_type": "code",
   "execution_count": 144,
   "metadata": {
    "collapsed": false
   },
   "outputs": [
    {
     "data": {
      "text/html": [
       "<div>\n",
       "<style>\n",
       "    .dataframe thead tr:only-child th {\n",
       "        text-align: right;\n",
       "    }\n",
       "\n",
       "    .dataframe thead th {\n",
       "        text-align: left;\n",
       "    }\n",
       "\n",
       "    .dataframe tbody tr th {\n",
       "        vertical-align: top;\n",
       "    }\n",
       "</style>\n",
       "<table border=\"1\" class=\"dataframe\">\n",
       "  <thead>\n",
       "    <tr style=\"text-align: right;\">\n",
       "      <th></th>\n",
       "      <th>TCGA-3X-AAVA-01A</th>\n",
       "      <th>TCGA-3X-AAVB-01A</th>\n",
       "      <th>TCGA-3X-AAVC-01A</th>\n",
       "      <th>TCGA-3X-AAVE-01A</th>\n",
       "      <th>TCGA-4G-AAZO-01A</th>\n",
       "    </tr>\n",
       "  </thead>\n",
       "  <tbody>\n",
       "    <tr>\n",
       "      <th>ENSG00000000005</th>\n",
       "      <td>1</td>\n",
       "      <td>2</td>\n",
       "      <td>1</td>\n",
       "      <td>0</td>\n",
       "      <td>0</td>\n",
       "    </tr>\n",
       "    <tr>\n",
       "      <th>ENSG00000000419</th>\n",
       "      <td>1254</td>\n",
       "      <td>1365</td>\n",
       "      <td>1250</td>\n",
       "      <td>1492</td>\n",
       "      <td>757</td>\n",
       "    </tr>\n",
       "    <tr>\n",
       "      <th>ENSG00000000457</th>\n",
       "      <td>699</td>\n",
       "      <td>584</td>\n",
       "      <td>1127</td>\n",
       "      <td>1110</td>\n",
       "      <td>1535</td>\n",
       "    </tr>\n",
       "    <tr>\n",
       "      <th>ENSG00000000460</th>\n",
       "      <td>239</td>\n",
       "      <td>238</td>\n",
       "      <td>217</td>\n",
       "      <td>368</td>\n",
       "      <td>162</td>\n",
       "    </tr>\n",
       "    <tr>\n",
       "      <th>ENSG00000000938</th>\n",
       "      <td>334</td>\n",
       "      <td>484</td>\n",
       "      <td>421</td>\n",
       "      <td>696</td>\n",
       "      <td>137</td>\n",
       "    </tr>\n",
       "  </tbody>\n",
       "</table>\n",
       "</div>"
      ],
      "text/plain": [
       "                TCGA-3X-AAVA-01A TCGA-3X-AAVB-01A TCGA-3X-AAVC-01A  \\\n",
       "ENSG00000000005                1                2                1   \n",
       "ENSG00000000419             1254             1365             1250   \n",
       "ENSG00000000457              699              584             1127   \n",
       "ENSG00000000460              239              238              217   \n",
       "ENSG00000000938              334              484              421   \n",
       "\n",
       "                TCGA-3X-AAVE-01A TCGA-4G-AAZO-01A  \n",
       "ENSG00000000005                0                0  \n",
       "ENSG00000000419             1492              757  \n",
       "ENSG00000000457             1110             1535  \n",
       "ENSG00000000460              368              162  \n",
       "ENSG00000000938              696              137  "
      ]
     },
     "execution_count": 144,
     "metadata": {},
     "output_type": "execute_result"
    }
   ],
   "source": [
    "rnaExpr.iloc[1:6, 1:6]"
   ]
  },
  {
   "cell_type": "code",
   "execution_count": null,
   "metadata": {
    "collapsed": true
   },
   "outputs": [],
   "source": []
  },
  {
   "cell_type": "code",
   "execution_count": null,
   "metadata": {
    "collapsed": true
   },
   "outputs": [],
   "source": []
  },
  {
   "cell_type": "code",
   "execution_count": null,
   "metadata": {
    "collapsed": true
   },
   "outputs": [],
   "source": []
  },
  {
   "cell_type": "code",
   "execution_count": null,
   "metadata": {
    "collapsed": true
   },
   "outputs": [],
   "source": []
  },
  {
   "cell_type": "code",
   "execution_count": null,
   "metadata": {
    "collapsed": true
   },
   "outputs": [],
   "source": []
  }
 ],
 "metadata": {
  "kernelspec": {
   "display_name": "Python [Root]",
   "language": "python",
   "name": "Python [Root]"
  },
  "language_info": {
   "codemirror_mode": {
    "name": "ipython",
    "version": 3
   },
   "file_extension": ".py",
   "mimetype": "text/x-python",
   "name": "python",
   "nbconvert_exporter": "python",
   "pygments_lexer": "ipython3",
   "version": "3.5.2"
  }
 },
 "nbformat": 4,
 "nbformat_minor": 0
}
