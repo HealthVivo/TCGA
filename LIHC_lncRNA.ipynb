{
 "cells": [
  {
   "cell_type": "code",
   "execution_count": 16,
   "metadata": {
    "collapsed": true
   },
   "outputs": [],
   "source": [
    "import os\n",
    "from collections import OrderedDict\n",
    "os.chdir('/home/ruidong/Documents/Research/share/ID_conversion/liver/')"
   ]
  },
  {
   "cell_type": "code",
   "execution_count": null,
   "metadata": {
    "collapsed": true
   },
   "outputs": [],
   "source": []
  },
  {
   "cell_type": "code",
   "execution_count": 17,
   "metadata": {
    "collapsed": false
   },
   "outputs": [],
   "source": [
    "database = '/home/ruidong/Documents/Research/Cancer_Genomics/Data/Databases/Gene_ID_conversion/'\n",
    "\n",
    "entrez2ensembl = OrderedDict()\n",
    "with open(database+'Ensembl_HGNC_Entrez_gene_id.txt') as f:\n",
    "    for line in f:\n",
    "        line = line.rstrip()\n",
    "        lst = line.split('\\t')\n",
    "        if len(lst) == 4:\n",
    "            entrez2ensembl[lst[-1]] = lst[0]\n",
    "        "
   ]
  },
  {
   "cell_type": "code",
   "execution_count": 18,
   "metadata": {
    "collapsed": false
   },
   "outputs": [],
   "source": [
    "ensembl2symbol = OrderedDict()\n",
    "with open(database+'Homo_sapiens.GRCh38.86.gff3.clean.txt') as f:\n",
    "    for line in f:\n",
    "        line = line.rstrip()\n",
    "        lst = line.split('\\t')\n",
    "        ensemblName = lst[0].split('.')[0]\n",
    "        if ensemblName in entrez2ensembl.values():\n",
    "            ensembl2symbol[ensemblName] = lst[1]+'\\t'+lst[2]"
   ]
  },
  {
   "cell_type": "code",
   "execution_count": null,
   "metadata": {
    "collapsed": true
   },
   "outputs": [],
   "source": []
  },
  {
   "cell_type": "code",
   "execution_count": 26,
   "metadata": {
    "collapsed": false
   },
   "outputs": [],
   "source": [
    "fh = open('TCGA_ID_converted.txt', 'wt')\n",
    "fh.write('\\t'.join(['gene_id','gene_type', 'protein_coding=0', 'non_coding=1', 'new_id'])+'\\n')\n",
    "with open('TCGA_ID.txt') as f:\n",
    "     for line in f:\n",
    "        line = line.rstrip()\n",
    "        entrezID = line.split('|')[1]\n",
    "        if entrezID in entrez2ensembl.keys() and entrez2ensembl[entrezID] in ensembl2symbol.keys():\n",
    "            geneInfo = ensembl2symbol[entrez2ensembl[entrezID]].split('\\t')\n",
    "            if geneInfo[1] == 'protein_coding':\n",
    "                if line.split('|')[0] != geneInfo[0]:\n",
    "                    fh.write('\\t'.join([line,geneInfo[1],'0','',geneInfo[0]])+'\\n')\n",
    "                else:\n",
    "                    fh.write('\\t'.join([line,geneInfo[1],'0','',''])+'\\n')\n",
    "                    \n",
    "            else:\n",
    "                if line.split('|')[0] != geneInfo[0]:\n",
    "                    fh.write('\\t'.join([line,geneInfo[1],'','1',geneInfo[0]])+'\\n')\n",
    "                else:\n",
    "                    fh.write('\\t'.join([line,geneInfo[1],'','1',''])+'\\n')\n",
    "                    \n",
    "fh.close()"
   ]
  },
  {
   "cell_type": "code",
   "execution_count": null,
   "metadata": {
    "collapsed": true
   },
   "outputs": [],
   "source": []
  },
  {
   "cell_type": "code",
   "execution_count": null,
   "metadata": {
    "collapsed": true
   },
   "outputs": [],
   "source": []
  },
  {
   "cell_type": "code",
   "execution_count": 1,
   "metadata": {
    "collapsed": true
   },
   "outputs": [],
   "source": [
    "######################################################\n",
    "######## Step0. Set up Environment Variables #########\n",
    "######################################################\n",
    "\n",
    "import re, os, scipy, json\n",
    "import numpy as np\n",
    "from scipy import stats\n",
    "from os import system\n",
    "from collections import OrderedDict, defaultdict\n",
    "from operator import itemgetter\n",
    "from pprint import pprint\n",
    "from xml.etree.ElementTree import parse\n",
    "\n",
    "\n",
    "project = '/home/ruidong/Documents/Research/Cancer_Genomics/Data/Liver/TCGA-LIHC/'\n",
    "databases = '/home/ruidong/Documents/Research/Cancer_Genomics/Data/Databases/'\n",
    "\n",
    "RNASeq = 'Gene_Expression_Quantification/'\n",
    "miRNAs = 'miRNA_Expression_Quantification/'\n",
    "isoform = 'Isoform_Expression_Quantification/'\n",
    "methylation = 'Methylation/'\n",
    "CNS = 'Copy_Number_Segment/'\n",
    "maskedCNS = 'Masked_Copy_Number_Segment/'\n",
    "miRNAmRNA = 'miRNA_mRNA_network/'\n",
    "survival = 'survival/'\n",
    "clinical = 'Clinical/'\n",
    "biospecimen = 'Biospecimen/'\n",
    "\n",
    "\n",
    "downloads = 'Downloads/'\n",
    "clean = 'Clean/'\n",
    "analysis = 'Analysis/'\n",
    "\n",
    "\n",
    "os.chdir(project)"
   ]
  },
  {
   "cell_type": "code",
   "execution_count": 2,
   "metadata": {
    "collapsed": false
   },
   "outputs": [],
   "source": [
    "########################################\n",
    "##### GRCh38.86\n",
    "\n",
    "\n",
    "proteinCodingSymbol = OrderedDict()\n",
    "longNonCodingSymbol = OrderedDict()\n",
    "otherNonCodingSymbol = OrderedDict()\n",
    "ensemblToSymbol= OrderedDict()\n",
    "\n",
    "lnc = ['3prime_overlapping_ncrna', 'ambiguous_orf', 'antisense', 'lincRNA', 'ncrna_host', \n",
    "       'non_coding', 'processed_transcript', 'retained_intron', 'sense_intronic', 'sense_overlapping']\n",
    "\n",
    "with open(databases+'Gene_ID_conversion/Homo_sapiens.GRCh38.86.gff3.clean.txt') as f:\n",
    "    for line in f:\n",
    "        line = line.rstrip()\n",
    "        lst = line.split('\\t')\n",
    "        geneID = lst[0].split('.')[0]\n",
    "        if lst[2] == 'protein_coding':\n",
    "            proteinCodingSymbol[geneID] = lst[1]+'\\t'+lst[2]\n",
    "            ensemblToSymbol[geneID] = '\\t'.join(lst[1:4])\n",
    "        elif lst[2] in lnc:\n",
    "            longNonCodingSymbol[geneID] = lst[1]+'\\t'+lst[2]\n",
    "            ensemblToSymbol[geneID] = '\\t'.join(lst[1:4])\n",
    "        else:\n",
    "            otherNonCodingSymbol[geneID] = lst[1]+'\\t'+lst[2]\n",
    "            ensemblToSymbol[geneID] = '\\t'.join(lst[1:4])"
   ]
  },
  {
   "cell_type": "code",
   "execution_count": 3,
   "metadata": {
    "collapsed": false
   },
   "outputs": [
    {
     "data": {
      "text/plain": [
       "'FAM138A\\tlincRNA\\tfamily with sequence similarity 138 member A [Source:HGNC Symbol%3BAcc:HGNC:32334]'"
      ]
     },
     "execution_count": 3,
     "metadata": {},
     "output_type": "execute_result"
    }
   ],
   "source": [
    "ensemblToSymbol['ENSG00000237613']"
   ]
  },
  {
   "cell_type": "code",
   "execution_count": null,
   "metadata": {
    "collapsed": true
   },
   "outputs": [],
   "source": []
  },
  {
   "cell_type": "code",
   "execution_count": null,
   "metadata": {
    "collapsed": true
   },
   "outputs": [],
   "source": []
  },
  {
   "cell_type": "code",
   "execution_count": 12,
   "metadata": {
    "collapsed": true
   },
   "outputs": [],
   "source": [
    "########################################\n",
    "##### GRCh38.86\n",
    "\n",
    "proteinCodingSymbol = OrderedDict()\n",
    "longNonCodingSymbol = OrderedDict()\n",
    "otherNonCodingSymbol = OrderedDict()\n",
    "ensemblToSymbol= OrderedDict()\n",
    "\n",
    "fh = open('Homo_sapiens.GRCh38.86.biotype.txt', 'wt')\n",
    "\n",
    "lnc = ['3prime_overlapping_ncrna', 'ambiguous_orf', 'antisense', 'lincRNA', 'ncrna_host', \n",
    "       'non_coding', 'processed_transcript', 'retained_intron', 'sense_intronic', 'sense_overlapping']\n",
    "\n",
    "pseudogene = ['disrupted_domain', 'IG_C_pseudogene', 'IG_J_pseudogene', 'IG_pseudogene', 'IG_V_pseudogene', \n",
    "              'processed_pseudogene', 'pseudogene', 'transcribed_processed_pseudogene', \n",
    "              'transcribed_unprocessed_pseudogene', 'translated_processed_pseudogene', \n",
    "              'translated_unprocessed_pseudogene', 'TR_J_pseudogene', 'TR_V_pseudogene', 'unitary_pseudogene', \n",
    "              'unprocessed_pseudogene']\n",
    "\n",
    "protein = ['IG_C_gene', 'IG_D_gene', 'IG_J_gene', 'IG_LV_gene', 'IG_M_gene', 'IG_V_gene', 'IG_Z_gene', \n",
    "           'nonsense_mediated_decay', 'nontranslating_CDS', 'non_stop_decay', 'polymorphic_pseudogene', \n",
    "           'protein_coding', 'TR_C_gene', 'TR_D_gene', 'TR_gene', 'TR_J_gene', 'TR_V_gene']\n",
    "\n",
    "snc = ['miRNA', 'miRNA_pseudogene', 'misc_RNA', 'misc_RNA_pseudogene', 'Mt_rRNA', 'Mt_tRNA', 'Mt_tRNA_pseudogene', \n",
    "       'ncRNA', 'pre_miRNA', 'RNase_MRP_RNA', 'RNase_P_RNA', 'rRNA', 'rRNA_pseudogene', 'scRNA_pseudogene', \n",
    "       'snlRNA', 'snoRNA', 'snoRNA_pseudogene', 'snRNA', 'snRNA_pseudogene', 'SRP_RNA', 'tmRNA', 'tRNA', \n",
    "       'tRNA_pseudogene']\n",
    "\n",
    "with open(databases+'Gene_ID_conversion/Homo_sapiens.GRCh38.86.gff3.clean.txt') as f:\n",
    "    for line in f:\n",
    "        line = line.rstrip()\n",
    "        lst = line.split('\\t')\n",
    "        geneID = lst[0].split('.')[0]\n",
    "        if lst[2] in lnc:\n",
    "            fh.write(lst[0]+'\\t'+lst[1]+'\\t'+'long_non_coding\\n')\n",
    "        elif lst[2] in pseudogene:\n",
    "            fh.write(lst[0]+'\\t'+lst[1]+'\\t'+'pseudogene\\n')\n",
    "        elif lst[2] in protein:\n",
    "            fh.write(lst[0]+'\\t'+lst[1]+'\\t'+'protein_coding\\n')\n",
    "        elif lst[2] in snc:\n",
    "            fh.write(lst[0]+'\\t'+lst[1]+'\\t'+'small_non_coding\\n')\n",
    "        else:\n",
    "            fh.write(lst[0]+'\\t'+lst[1]+'\\t'+lst[2]+'\\n')\n",
    "            \n",
    "fh.close()"
   ]
  },
  {
   "cell_type": "code",
   "execution_count": 10,
   "metadata": {
    "collapsed": false
   },
   "outputs": [
    {
     "name": "stdout",
     "output_type": "stream",
     "text": [
      "biotype\n",
      "transcribed_unprocessed_pseudogene\n",
      "unprocessed_pseudogene\n",
      "miRNA\n",
      "lincRNA\n",
      "protein_coding\n",
      "processed_pseudogene\n",
      "antisense\n",
      "processed_transcript\n",
      "snRNA\n",
      "transcribed_processed_pseudogene\n",
      "sense_intronic\n",
      "misc_RNA\n",
      "TEC\n",
      "unitary_pseudogene\n",
      "snoRNA\n",
      "scaRNA\n",
      "rRNA\n",
      "3prime_overlapping_ncRNA\n",
      "polymorphic_pseudogene\n",
      "transcribed_unitary_pseudogene\n",
      "sense_overlapping\n",
      "pseudogene\n",
      "IG_V_pseudogene\n",
      "bidirectional_promoter_lncRNA\n",
      "ribozyme\n",
      "sRNA\n",
      "non_coding\n",
      "macro_lncRNA\n",
      "TR_V_gene\n",
      "TR_V_pseudogene\n",
      "TR_C_gene\n",
      "TR_D_gene\n",
      "TR_J_gene\n",
      "TR_J_pseudogene\n",
      "IG_C_gene\n",
      "IG_C_pseudogene\n",
      "IG_J_gene\n",
      "IG_J_pseudogene\n",
      "IG_D_gene\n",
      "IG_V_gene\n",
      "IG_pseudogene\n",
      "scRNA\n",
      "vaultRNA\n",
      "Mt_tRNA\n",
      "Mt_rRNA\n"
     ]
    }
   ],
   "source": [
    "check={}\n",
    "with open(databases+'Gene_ID_conversion/Homo_sapiens.GRCh38.86.gff3.clean.txt') as f:\n",
    "    for line in f:\n",
    "        line = line.rstrip()\n",
    "        lst = line.split('\\t')\n",
    "        if lst[2] not in check.keys():\n",
    "            print (lst[2])\n",
    "            check[lst[2]]=1"
   ]
  },
  {
   "cell_type": "code",
   "execution_count": null,
   "metadata": {
    "collapsed": true
   },
   "outputs": [],
   "source": []
  },
  {
   "cell_type": "code",
   "execution_count": 42,
   "metadata": {
    "collapsed": false
   },
   "outputs": [],
   "source": [
    "################################################################################\n",
    "################### Step4. Prepare input for downstream analysis ###############\n",
    "################################################################################\n",
    "\n",
    "os.chdir(project+RNASeq)\n",
    "\n",
    "fh1 = open(analysis+'LIHC.RNAseq.counts.all.txt', 'wt')\n",
    "fh2 = open(analysis+'LIHC.RNAseq.counts.long_non_coding.txt', 'wt')\n",
    "\n",
    "with open(analysis+'Merged_RNAseq_counts_data_TCGA_LIHC.txt', 'rt') as f:\n",
    "    for line in f:\n",
    "        line = line.rstrip()\n",
    "        lst = line.split('\\t')\n",
    "        if lst[0] == '':\n",
    "            fh1.write(line+'\\n')\n",
    "            fh2.write(line+'\\n')\n",
    "\n",
    "        elif lst[0].startswith('ENSG'):\n",
    "            ensemblID = lst[0].split('.')[0]\n",
    "            if ensemblID  in ensemblToSymbol.keys():\n",
    "                fh1.write(ensemblToSymbol[ensemblID].split('\\t')[0]+'\\t'+'\\t'.join(lst[1:])+'\\n')\n",
    "                if ensemblID  in longNonCodingSymbol.keys():\n",
    "                    fh2.write(longNonCodingSymbol[ensemblID].split('\\t')[0]+'\\t'+'\\t'.join(lst[1:])+'\\n')\n",
    "                    \n",
    "                    \n",
    "fh1.close()\n",
    "fh2.close()"
   ]
  },
  {
   "cell_type": "code",
   "execution_count": 44,
   "metadata": {
    "collapsed": true
   },
   "outputs": [],
   "source": []
  },
  {
   "cell_type": "code",
   "execution_count": null,
   "metadata": {
    "collapsed": true
   },
   "outputs": [],
   "source": []
  },
  {
   "cell_type": "code",
   "execution_count": 41,
   "metadata": {
    "collapsed": false
   },
   "outputs": [
    {
     "name": "stdout",
     "output_type": "stream",
     "text": [
      "LINC01598\n",
      "2\n",
      "PGM5-AS1\n",
      "2\n",
      "LINC00864\n",
      "2\n",
      "FAM95B1\n",
      "2\n",
      "PROX1-AS1\n",
      "2\n",
      "LINC01505\n",
      "2\n",
      "LINC01422\n",
      "2\n",
      "LINC00484\n",
      "2\n",
      "PRICKLE2-AS1\n",
      "2\n",
      "LINC01297\n",
      "2\n",
      "RAET1E-AS1\n",
      "2\n",
      "DNAJC9-AS1\n",
      "2\n",
      "LINC01481\n",
      "2\n",
      "PABPC1L2B-AS1\n",
      "2\n"
     ]
    }
   ],
   "source": [
    "check = {}\n",
    "with open(analysis+'LIHC.RNAseq.counts.long_non_coding.txt', 'rt') as f:\n",
    "    for line in f:\n",
    "        line = line.rstrip()\n",
    "        lst = line.split('\\t')\n",
    "        \n",
    "        if lst[0] not in check.keys():\n",
    "            check[lst[0]] = 0\n",
    "        check[lst[0]] += 1\n",
    "        \n",
    "        \n",
    "for ke,val in check.items():\n",
    "    if val > 1:\n",
    "        print (ke)\n",
    "        print (val)"
   ]
  },
  {
   "cell_type": "code",
   "execution_count": null,
   "metadata": {
    "collapsed": true
   },
   "outputs": [],
   "source": []
  },
  {
   "cell_type": "code",
   "execution_count": 10,
   "metadata": {
    "collapsed": false
   },
   "outputs": [],
   "source": [
    "##########################################################\n",
    "############### Add gene type\n",
    "os.chdir('/home/ruidong/Documents/Research/share/ID_conversion/liver/')\n",
    "\n",
    "ensemblType = OrderedDict()\n",
    "symbolType = OrderedDict()\n",
    "\n",
    "with open('Homo_sapiens.GRCh38.86.biotype.txt') as f:\n",
    "    for line in f:\n",
    "        line = line.rstrip()\n",
    "        lst = line.split('\\t')\n",
    "        \n",
    "        if lst[0] == 'geneID':\n",
    "            continue\n",
    "        \n",
    "        ensemblType[lst[0].split('.')[0]] = lst[-1]\n",
    "        symbolType[lst[1]] = lst[-1]\n",
    "        \n",
    "        \n",
    "fh = open('LIHC.RNAseq.counts.all.biotype.normalized.txt', 'wt')\n",
    "with open('LIHC.RNAseq.counts.all.normalized.txt') as f:\n",
    "    for line in f:\n",
    "        line = line.rstrip()\n",
    "        lst = line.split('\\t')\n",
    "        \n",
    "        if line.startswith('\\t'):\n",
    "            fh.write('\\t'+'\\t'.join(['biotype']+lst[1:])+'\\n')\n",
    "        else:\n",
    "            fh.write('\\t'.join([lst[0],symbolType[lst[0]]]+lst[1:])+'\\n')\n",
    "                     \n",
    "                     \n",
    "fh.close()\n",
    "        \n",
    "        \n",
    "                     \n",
    "                     \n",
    "fh = open('Merged_RNAseq_counts_data_TCGA_LIHC.biotype.normalized.txt', 'wt')\n",
    "with open('Merged_RNAseq_counts_data_TCGA_LIHC.normalized.txt') as f:\n",
    "    for line in f:\n",
    "        line = line.rstrip()\n",
    "        lst = line.split('\\t')\n",
    "        \n",
    "        if line.startswith('\\t'):\n",
    "            fh.write('\\t'+'\\t'.join(['biotype']+lst[1:])+'\\n')\n",
    "        elif lst[0].split('.')[0] in ensemblType.keys():\n",
    "            fh.write('\\t'.join([lst[0],ensemblType[lst[0].split('.')[0]]]+lst[1:])+'\\n')\n",
    "        else:\n",
    "            fh.write('\\t'.join([lst[0],'unknown']+lst[1:])+'\\n')\n",
    "                     \n",
    "fh.close()\n",
    "        \n",
    "    "
   ]
  },
  {
   "cell_type": "code",
   "execution_count": null,
   "metadata": {
    "collapsed": true
   },
   "outputs": [],
   "source": []
  },
  {
   "cell_type": "code",
   "execution_count": 12,
   "metadata": {
    "collapsed": false
   },
   "outputs": [],
   "source": [
    "import os\n",
    "from collections import OrderedDict\n",
    "os.chdir('/home/ruidong/Documents/Research/share/ID_conversion/liver/')\n",
    "\n",
    "\n",
    "\n",
    "v79 = OrderedDict()\n",
    "v86 = OrderedDict()\n",
    "with open('Homo_sapiens.GRCh38.79.clean.gtf') as f:\n",
    "    for line in f:\n",
    "        line = line.rstrip()\n",
    "        lst = line.split('\\t')\n",
    "        \n",
    "        if line.startswith('ENSG'):\n",
    "            gene = lst[0].split('.')[0]\n",
    "            v79[gene] = '\\t'.join([lst[i] for i in range(5) if i != 3])\n",
    "            \n",
    "            \n",
    "with open('Homo_sapiens.GRCh38.86.gff3.clean.txt') as f:\n",
    "    for line in f:\n",
    "        line = line.rstrip()\n",
    "        lst = line.split('\\t')\n",
    "        \n",
    "        if line.startswith('ENSG'):\n",
    "            gene = lst[0].split('.')[0]\n",
    "            v86[gene] = line\n",
    "            \n",
    "\n",
    "            \n",
    "fh1 = open('TCGA.Homo_sapiens.GRCh38.79.biotype.txt', 'wt')\n",
    "fh2 = open('TCGA.Homo_sapiens.GRCh38.86.biotype.txt', 'wt')\n",
    "fh3 = open('TCGA.Homo_sapiens.GRCh38.79.diff.86.biotype.txt', 'wt')\n",
    "fh4 = open('TCGA.Homo_sapiens.GRCh38.79.not.86.biotype.txt', 'wt')\n",
    "\n",
    "\n",
    "\n",
    "\n",
    "fh1.write('\\t'.join(['TCGA','GRCh38.79','geneSymbol','biotype','description'])+'\\n')\n",
    "fh2.write('\\t'.join(['TCGA','GRCh38.86','geneSymbol','biotype','description'])+'\\n')\n",
    "fh3.write('\\t'.join(['TCGA','GRCh38.79','geneSymbol','biotype','description',\n",
    "                     'GRCh38.86','geneSymbol','biotype','description'])+'\\n')\n",
    "\n",
    "fh4.write('\\t'.join(['TCGA','GRCh38.79','geneSymbol','biotype','description'])+'\\n')\n",
    "\n",
    "with open('RNAseq.counts_only.TCGA-LIHC.txt') as f:\n",
    "    for line in f:\n",
    "        line = line.rstrip()\n",
    "        lst = line.split('\\t')\n",
    "        \n",
    "        if line.startswith('ENSG'):\n",
    "            gene = lst[0].split('.')[0]\n",
    "            if gene in v79.keys():\n",
    "                fh1.write(lst[0]+'\\t'+v79[gene]+'\\n')\n",
    "            else:\n",
    "                fh1.write(lst[0]+'\\t'+'\\t'.join(['NA']*4)+'\\n')\n",
    "                \n",
    "            if gene in v86.keys():\n",
    "                fh2.write(lst[0]+'\\t'+v86[gene]+'\\n')\n",
    "            else:\n",
    "                fh2.write(lst[0]+'\\t'+'\\t'.join(['NA']*4)+'\\n')\n",
    "                \n",
    "            if gene in v79.keys() and gene in v86.keys():\n",
    "                if v79[gene].split('\\t')[1] != v86[gene].split('\\t')[1]:\n",
    "                    fh3.write(lst[0]+'\\t'+v79[gene]+'\\t'+v86[gene]+'\\n')\n",
    "                    \n",
    "            if gene in v79.keys() and gene not in v86.keys():\n",
    "                fh4.write(lst[0]+'\\t'+v79[gene]+'\\n')\n",
    "                    \n",
    "                    \n",
    "\n",
    "fh1.close()\n",
    "fh2.close()\n",
    "fh3.close()\n",
    "fh4.close()"
   ]
  },
  {
   "cell_type": "code",
   "execution_count": null,
   "metadata": {
    "collapsed": true
   },
   "outputs": [],
   "source": []
  },
  {
   "cell_type": "code",
   "execution_count": null,
   "metadata": {
    "collapsed": true
   },
   "outputs": [],
   "source": []
  }
 ],
 "metadata": {
  "anaconda-cloud": {},
  "kernelspec": {
   "display_name": "Python [Root]",
   "language": "python",
   "name": "Python [Root]"
  },
  "language_info": {
   "codemirror_mode": {
    "name": "ipython",
    "version": 3
   },
   "file_extension": ".py",
   "mimetype": "text/x-python",
   "name": "python",
   "nbconvert_exporter": "python",
   "pygments_lexer": "ipython3",
   "version": "3.5.2"
  }
 },
 "nbformat": 4,
 "nbformat_minor": 0
}
